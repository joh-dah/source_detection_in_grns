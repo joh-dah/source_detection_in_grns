{
 "cells": [
  {
   "cell_type": "code",
   "execution_count": null,
   "metadata": {
    "ExecuteTime": {
     "end_time": "2023-07-06T11:23:54.917811400Z",
     "start_time": "2023-07-06T11:23:54.787047100Z"
    }
   },
   "outputs": [],
   "source": [
    "from pathlib import Path\n",
    "import json\n",
    "import pandas as pd\n",
    "\n",
    "path = Path('../../reports')\n",
    "\n",
    "# get folders from path\n",
    "folders = [x for x in path.iterdir() if x.is_dir()]\n",
    "\n",
    "# in the folders are multiple json files. \n",
    "# Create a dataframe that contains in every row the data from the json files named \"synthetic.json\".\n",
    "\n",
    "df = pd.DataFrame()\n",
    "for folder in folders:\n",
    "    files = [x for x in folder.iterdir() if x.is_file()]\n",
    "    for file in files:\n",
    "        with open(file) as json_file:\n",
    "            data = json.load(json_file)\n",
    "            data = {k: v for k, v in data.items() if k in ['metrics', 'data stats']}\n",
    "            data = pd.json_normalize(data, meta=['metrics', 'data stats'])\n",
    "            model = folder.name.split(\"_\")[0]\n",
    "            data['type'] = file.name.split(\".\")[0]\n",
    "            data[\"model\"] = model\n",
    "            df = pd.concat([df, data], ignore_index=True)\n",
    "\n",
    "df\n"
   ]
  },
  {
   "cell_type": "code",
   "execution_count": 3,
   "metadata": {},
   "outputs": [],
   "source": [
    "\n",
    "#normalize the column metrics.avg min matching distance with the column data stats.graph stats.avg number of nodes\n",
    "df['metrics.avg min matching distance'] = df['metrics.avg min matching distance']"
   ]
  },
  {
   "cell_type": "code",
   "execution_count": null,
   "metadata": {},
   "outputs": [],
   "source": [
    "import seaborn as sns\n",
    "import matplotlib.pyplot as plt\n",
    "\n",
    "# get all rows with type = synthetic and remove them from the dataframe\n",
    "df_synthetic = df[df['type'].isin(['synthetic'])]\n",
    "df = df[~df['type'].isin(['synthetic'])]\n",
    "\n",
    "metrics = [\"avg min matching distance\", \"avg F1 score\", \"False positive rate\", \"True positive rate\"]\n",
    "\n",
    "# add column containing small, meidum or large depending whether the value for model contains small, medium or large\n",
    "df_synthetic['size'] = df_synthetic['model'].apply(lambda x: 'small' if 'small' in x else ('medium' if 'medium' in x else 'large'))\n",
    "\n",
    "# create a plot for every value of size and every metric\n",
    "for size in df_synthetic['size'].unique():\n",
    "\n",
    "    df_synthetic_size = df_synthetic[df_synthetic['size'] == size]\n",
    "    #set order so that the model containing \"unsup\" is always on the left\n",
    "    order = df_synthetic_size['model'].unique()\n",
    "    order = sorted(order, key=lambda x: 'unsup' in x)\n",
    "    df_synthetic_size['model'] = pd.Categorical(df_synthetic_size['model'], order)\n",
    "    df_synthetic_size = df_synthetic_size.sort_values('model')\n",
    "\n",
    "\n",
    "    for metric in metrics:\n",
    "        g = sns.catplot(\n",
    "            data=df_synthetic_size, kind=\"bar\",\n",
    "            x=\"size\", y=f\"metrics.{metric}\", hue=\"model\",\n",
    "            errorbar=\"sd\", palette=\"dark\", alpha=.6, height=6,\n",
    "        )\n",
    "        \n",
    "\n",
    "        g.despine(left=True)\n",
    "        g.set_axis_labels(\"\", metric)\n",
    "        plt.title(f\"{metric}\")\n",
    "        #plt.ylim(0, 0.9)\n",
    "        plt.show()\n",
    "    \n"
   ]
  },
  {
   "cell_type": "code",
   "execution_count": null,
   "metadata": {},
   "outputs": [],
   "source": [
    "import seaborn as sns\n",
    "import matplotlib.pyplot as plt\n",
    "\n",
    "metrics = [\"avg min matching distance\", \"avg F1 score\", \"False positive rate\", \"True positive rate\"]\n",
    "\n",
    "df = df[df[\"model\"] != \"GCNR-hard\"]\n",
    "\n",
    "\n",
    "for metric in metrics:\n",
    "    #set order so that the model containing \"unsup\" is always on the left. than small, medium, large\n",
    "    order = df['model'].unique()\n",
    "    order = sorted(order, key=lambda x: 'unsup' in x)\n",
    "    order = sorted(order, key=lambda x: 'small' in x)\n",
    "    order = sorted(order, key=lambda x: 'medium' in x)\n",
    "    order = sorted(order, key=lambda x: 'hard' in x)\n",
    "    df['model'] = pd.Categorical(df['model'], order)\n",
    "    df = df.sort_values('model')\n",
    "\n",
    "\n",
    "    g = sns.catplot(\n",
    "        data=df, kind=\"bar\",\n",
    "        x=\"type\", y=f\"metrics.{metric}\", hue=\"model\",\n",
    "        errorbar=\"sd\", palette=\"dark\", alpha=.6, height=6\n",
    "    )\n",
    "    g.despine(left=True)\n",
    "    g.set_axis_labels(\"\", metric)\n",
    "    plt.title(f\"{metric}\")\n",
    "    plt.ylim(0, None)\n",
    "    plt.show()\n"
   ]
  },
  {
   "cell_type": "code",
   "execution_count": null,
   "metadata": {},
   "outputs": [],
   "source": [
    "import seaborn as sns\n",
    "import matplotlib.pyplot as plt\n",
    "\n",
    "df = df[df[\"model\"] != \"unsup\"]\n",
    "df = df[df[\"model\"] != \"GCNR-hard\"]\n",
    "\n",
    "metrics2 = [\"avg rank of source\", \"roc score\"]\n",
    "\n",
    "\n",
    "for metric in metrics2:\n",
    "    g = sns.catplot(\n",
    "        data=df, kind=\"bar\",\n",
    "        x=\"type\", y=f\"metrics.{metric}\", hue=\"model\",\n",
    "        errorbar=\"sd\", palette=\"dark\", alpha=.6, height=6\n",
    "    )\n",
    "    g.despine(left=True)\n",
    "    g.set_axis_labels(\"\", metric)\n",
    "    plt.title(f\"{metric}\")\n",
    "    plt.show()"
   ]
  }
 ],
 "metadata": {
  "kernelspec": {
   "display_name": "venv",
   "language": "python",
   "name": "python3"
  },
  "language_info": {
   "codemirror_mode": {
    "name": "ipython",
    "version": 3
   },
   "file_extension": ".py",
   "mimetype": "text/x-python",
   "name": "python",
   "nbconvert_exporter": "python",
   "pygments_lexer": "ipython3",
   "version": "3.10.12"
  },
  "orig_nbformat": 4
 },
 "nbformat": 4,
 "nbformat_minor": 2
}
