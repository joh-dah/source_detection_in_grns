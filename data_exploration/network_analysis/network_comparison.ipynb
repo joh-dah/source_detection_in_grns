{
 "cells": [
  {
   "cell_type": "markdown",
   "id": "2a586696",
   "metadata": {},
   "source": [
    "# Compare Grand Networks\n",
    "First load two Lung Cancer Networks (TCGA Code: LUAD):\n",
    "ACH-000681_LUAD.csv\n",
    "ACH-000012_HCC827.csv\n",
    "\n",
    "See if those are identically or not.\n",
    "\n",
    "Then load a metastasised lung cancer Network (TCGA: MESO):\n",
    "ACH-000335_MESO.csv\n",
    "\n",
    "See if there are more differences\n",
    "\n",
    "Lastly load a bone cancer network (TCGA:SARC):\n"
   ]
  },
  {
   "cell_type": "code",
   "execution_count": 2,
   "id": "e030d543",
   "metadata": {},
   "outputs": [],
   "source": [
    "# load ACH-000681_LUAD.csv and ACH-000012_HCC827.csv from ../data/\n",
    "\n",
    "# First load two Lung Cancer Networks (TCGA Code: LUAD):\n",
    "# ACH-000681_LUAD.csv\n",
    "# ACH-000012_HCC827.csv\n",
    "\n",
    "# See if those are identically or not.\n",
    "\n",
    "import pandas as pd\n",
    "import numpy as np\n",
    "import os\n",
    "\n",
    "df_luad_1 = pd.read_csv(os.path.join('..', 'data', 'ACH-000681_A549_LUAD.csv'))\n",
    "df_luad_2 = pd.read_csv(os.path.join('..', 'data', 'ACH-000012_HCC827.csv'))\n",
    "df_MESO = pd.read_csv(os.path.join('..', 'data', 'ACH-000335_MESO.csv'))\n",
    "df_SARC = pd.read_csv(os.path.join('..', 'data', 'ACH-000039_SARC.csv'))"
   ]
  },
  {
   "cell_type": "code",
   "execution_count": 3,
   "id": "94ad6664",
   "metadata": {},
   "outputs": [
    {
     "name": "stdout",
     "output_type": "stream",
     "text": [
      "LUAD_1 columns:  18561\n",
      "LUAD_1 rows:  1132\n",
      "LUAD_1 columns:  Index(['Row', 'A1BG', 'A1CF', 'A2M', 'A2ML1'], dtype='object')\n",
      "LUAD_1 rows:  ['AHR' 'AHRR' 'AIRE' 'ALX1' 'ALX3']\n",
      "LUAD_1 rows in columns:  1116\n"
     ]
    }
   ],
   "source": [
    "# for df_luad_1 get the columns and rows\n",
    "df_luad_1_columns = df_luad_1.columns\n",
    "df_luad_1_rows = df_luad_1.loc[:, 'Row'].values\n",
    "# print len of both\n",
    "print(\"LUAD_1 columns: \", len(df_luad_1_columns))\n",
    "print(\"LUAD_1 rows: \", len(df_luad_1_rows))\n",
    "\n",
    "#print the first 5 columns and rows\n",
    "print(\"LUAD_1 columns: \", df_luad_1_columns[:5])\n",
    "print(\"LUAD_1 rows: \", df_luad_1_rows[:5])\n",
    "\n",
    "# now check how many rows names are also in the column names\n",
    "df_luad_1_rows_in_columns = [x for x in df_luad_1_rows if x in df_luad_1_columns]\n",
    "print(\"LUAD_1 rows in columns: \", len(df_luad_1_rows_in_columns))\n",
    "\n"
   ]
  },
  {
   "cell_type": "code",
   "execution_count": 4,
   "id": "7aedf34b",
   "metadata": {},
   "outputs": [
    {
     "data": {
      "text/plain": [
       "(1132, 18561)"
      ]
     },
     "execution_count": 4,
     "metadata": {},
     "output_type": "execute_result"
    }
   ],
   "source": [
    "df_MESO.shape"
   ]
  },
  {
   "cell_type": "code",
   "execution_count": 5,
   "id": "94262bdc",
   "metadata": {},
   "outputs": [
    {
     "name": "stdout",
     "output_type": "stream",
     "text": [
      "LUAD-1 vs LUAD-2:\n",
      "0.7146576892339138\n",
      "LUAD-1 vs MESO:\n",
      "0.8445222165661247\n",
      "LUAD-2 vs MESO:\n",
      "0.6610471821733616\n",
      "LUAD-1 vs SARC:\n",
      "0.8844084538252369\n",
      "LUAD-2 vs SARC:\n",
      "0.6120257695933259\n",
      "MESO vs SARC:\n",
      "0.8819885962462187\n"
     ]
    }
   ],
   "source": [
    "# for all pairs subtract the dataframes and get the absolute value\n",
    "# then get the mean of the absolute value\n",
    "# Exclude the 'Row' column from the subtraction\n",
    "\n",
    "df_luad_1_luad_2 = df_luad_1.iloc[:, df_luad_1.columns != 'Row'] - df_luad_2.iloc[:, df_luad_2.columns != 'Row']\n",
    "# make all values in the dataframe positive and take the mean over all values\n",
    "df_luad_1_luad_2_mean = df_luad_1_luad_2.abs().mean().mean()\n",
    "# do the same for LUAD-1 and MESO\n",
    "df_luad_1_meso = df_luad_1.iloc[:, df_luad_1.columns != 'Row'] - df_MESO.iloc[:, df_MESO.columns != 'Row']\n",
    "df_luad_1_meso_mean = df_luad_1_meso.abs().mean().mean()\n",
    "# do the same for LUAD-2 and MESO\n",
    "df_luad_2_meso = df_luad_2.iloc[:, df_luad_2.columns != 'Row'] - df_MESO.iloc[:, df_MESO.columns != 'Row']\n",
    "df_luad_2_meso_mean = df_luad_2_meso.abs().mean().mean()\n",
    "\n",
    "# for LUAD-1 and SARC\n",
    "df_luad_1_sarc = df_luad_1.iloc[:, df_luad_1.columns != 'Row'] - df_SARC.iloc[:, df_SARC.columns != 'Row']\n",
    "df_luad_1_sarc_mean = df_luad_1_sarc.abs().mean().mean()\n",
    "# for LUAD-2 and SARC\n",
    "df_luad_2_sarc = df_luad_2.iloc[:, df_luad_2.columns != 'Row'] - df_SARC.iloc[:, df_SARC.columns != 'Row']\n",
    "df_luad_2_sarc_mean = df_luad_2_sarc.abs().mean().mean()\n",
    "# for MESO and SARC\n",
    "df_meso_sarc = df_MESO.iloc[:, df_MESO.columns != 'Row'] - df_SARC.iloc[:, df_SARC.columns != 'Row']\n",
    "df_meso_sarc_mean = df_meso_sarc.abs().mean().mean()\n",
    "\n",
    "# print the results\n",
    "print(\"LUAD-1 vs LUAD-2:\")\n",
    "print(df_luad_1_luad_2_mean)\n",
    "print(\"LUAD-1 vs MESO:\")\n",
    "print(df_luad_1_meso_mean)\n",
    "print(\"LUAD-2 vs MESO:\")\n",
    "print(df_luad_2_meso_mean)\n",
    "print(\"LUAD-1 vs SARC:\")\n",
    "print(df_luad_1_sarc_mean)\n",
    "print(\"LUAD-2 vs SARC:\")\n",
    "print(df_luad_2_sarc_mean)\n",
    "print(\"MESO vs SARC:\")\n",
    "print(df_meso_sarc_mean)\n"
   ]
  },
  {
   "cell_type": "code",
   "execution_count": 6,
   "id": "14e9884f",
   "metadata": {},
   "outputs": [
    {
     "name": "stdout",
     "output_type": "stream",
     "text": [
      "Intersection of all four sets:  1132\n",
      "LUAD-1 rows:  1132\n"
     ]
    }
   ],
   "source": [
    "# check whether the column \"Row\" contains exactly the same values in all dataframes\n",
    "# do that by printing the length of the intersection of the values in the column \"Row\"\n",
    "df_luad_1_rows = set(df_luad_1['Row'].values)\n",
    "df_luad_2_rows = set(df_luad_2['Row'].values)\n",
    "df_MESO_rows = set(df_MESO['Row'].values)\n",
    "df_SARC_rows = set(df_SARC['Row'].values)\n",
    "# get the intersection of all four sets\n",
    "intersection = df_luad_1_rows.intersection(df_luad_2_rows).intersection(df_MESO_rows).intersection(df_SARC_rows)\n",
    "# print the length of the intersection\n",
    "print(\"Intersection of all four sets: \", len(intersection))\n",
    "# print the length of each set\n",
    "print(\"LUAD-1 rows: \", len(df_luad_1_rows))\n"
   ]
  }
 ],
 "metadata": {
  "kernelspec": {
   "display_name": ".venv",
   "language": "python",
   "name": "python3"
  },
  "language_info": {
   "codemirror_mode": {
    "name": "ipython",
    "version": 3
   },
   "file_extension": ".py",
   "mimetype": "text/x-python",
   "name": "python",
   "nbconvert_exporter": "python",
   "pygments_lexer": "ipython3",
   "version": "3.11.0"
  }
 },
 "nbformat": 4,
 "nbformat_minor": 5
}
