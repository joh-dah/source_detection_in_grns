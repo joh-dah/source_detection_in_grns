{
 "cells": [
  {
   "cell_type": "code",
   "execution_count": 1,
   "id": "95d548b6",
   "metadata": {},
   "outputs": [],
   "source": [
    "from pathlib import Path\n",
    "import networkx as nx\n",
    "import matplotlib.pyplot as plt\n",
    "import pandas as pd"
   ]
  },
  {
   "cell_type": "code",
   "execution_count": 2,
   "id": "bea8071d",
   "metadata": {},
   "outputs": [],
   "source": [
    "def get_graph_data_from_topo(filepath=None):\n",
    "    \"\"\"\n",
    "    Reads a .topo file and returns:\n",
    "    - A NetworkX directed graph with gene names as node labels and 'Type' as edge weight.\n",
    "    - A mapping from gene names to integer indices (useful for ML models like PyG).\n",
    "    \n",
    "    :param filepath: path to the topology file\n",
    "    :return: G_named (NetworkX DiGraph), gene_to_idx (dict)\n",
    "    \"\"\"\n",
    "    df = pd.read_csv(filepath, sep=r\"\\s+\")\n",
    "\n",
    "    # Create gene-to-index mapping for optional ML use\n",
    "    genes = sorted(set(df['Source']).union(df['Target']))\n",
    "    gene_to_idx = {gene: idx for idx, gene in enumerate(genes)}\n",
    "\n",
    "    # Build NetworkX DiGraph with weights\n",
    "    edges_with_weights = list(zip(df['Source'], df['Target'], df['Type']))\n",
    "    G = nx.DiGraph()\n",
    "    G.add_weighted_edges_from(edges_with_weights)\n",
    "\n",
    "    return G, gene_to_idx"
   ]
  },
  {
   "cell_type": "code",
   "execution_count": 9,
   "id": "dc4ca713",
   "metadata": {},
   "outputs": [],
   "source": [
    "G, _ = get_graph_data_from_topo(filepath=Path(\"dorothea_150.topo\"))\n",
    "nodes = list(G.nodes())\n"
   ]
  },
  {
   "cell_type": "code",
   "execution_count": 10,
   "id": "cc607bf1",
   "metadata": {},
   "outputs": [],
   "source": [
    "import pandas as pd\n",
    "df = pd.read_csv(\"XXL_run_gene_metrics.csv\")\n",
    "genes_XXL = df[\"gene\"].tolist()"
   ]
  },
  {
   "cell_type": "code",
   "execution_count": 14,
   "id": "d231683e",
   "metadata": {},
   "outputs": [
    {
     "name": "stdout",
     "output_type": "stream",
     "text": [
      "150 228\n",
      "150 125\n",
      "gene\n",
      "PGR      2\n",
      "FOS      2\n",
      "JUN      2\n",
      "STAT1    2\n",
      "HIF1A    2\n",
      "        ..\n",
      "NR1H2    1\n",
      "HNF4A    1\n",
      "MAFB     1\n",
      "KLF13    1\n",
      "HBP1     1\n",
      "Name: count, Length: 125, dtype: int64\n"
     ]
    }
   ],
   "source": [
    "print(len(nodes), len(genes_XXL))\n",
    "print(len(set(nodes)), len(set(genes_XXL)))  # Check if the sets are equal\n",
    "# print the value counts for genes_XXL\n",
    "print(df[\"gene\"].value_counts())"
   ]
  }
 ],
 "metadata": {
  "kernelspec": {
   "display_name": "source_detection_in_grns",
   "language": "python",
   "name": "python3"
  },
  "language_info": {
   "codemirror_mode": {
    "name": "ipython",
    "version": 3
   },
   "file_extension": ".py",
   "mimetype": "text/x-python",
   "name": "python",
   "nbconvert_exporter": "python",
   "pygments_lexer": "ipython3",
   "version": "3.12.11"
  }
 },
 "nbformat": 4,
 "nbformat_minor": 5
}
